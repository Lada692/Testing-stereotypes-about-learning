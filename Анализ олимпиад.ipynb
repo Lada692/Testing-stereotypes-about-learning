{
 "cells": [
  {
   "cell_type": "markdown",
   "id": "8d1b471e",
   "metadata": {},
   "source": [
    "## Анализ олимпиад"
   ]
  },
  {
   "cell_type": "markdown",
   "id": "be488b2f",
   "metadata": {},
   "source": [
    "## Описание данных"
   ]
  },
  {
   "cell_type": "markdown",
   "id": "3b3295c0",
   "metadata": {},
   "source": [
    "`ID` - порядковый номер участника в таблице\n",
    "\n",
    "`Пол` - пол учасника (женский, мужской)\n",
    "\n",
    "`Регион, место нахождения` - регион написания участником олимпиады (?)\n",
    "\n",
    "`Класс` - класс, за который участник писал олимпиаду\n",
    "\n",
    "`Статус` - статус участника (победитель, призёр)\n",
    "\n",
    "`Предмет` - предмет олимпиады"
   ]
  },
  {
   "cell_type": "markdown",
   "id": "449ed553",
   "metadata": {},
   "source": [
    "## Цель работы"
   ]
  },
  {
   "cell_type": "markdown",
   "id": "18dd0e38",
   "metadata": {},
   "source": [
    "Проверить на достоверность основные стереотипы, связанные с проведением Всероссийской олимпиады школьников"
   ]
  },
  {
   "cell_type": "markdown",
   "id": "b9dd1e01",
   "metadata": {},
   "source": [
    "## Предобработка данных"
   ]
  },
  {
   "cell_type": "markdown",
   "id": "556dde36",
   "metadata": {},
   "source": [
    "### Импортирование библиотек"
   ]
  },
  {
   "cell_type": "code",
   "execution_count": 2,
   "id": "af729732",
   "metadata": {},
   "outputs": [],
   "source": [
    "import pandas as pd\n",
    "from scipy import stats as st\n",
    "import math as mth\n",
    "from scipy.stats import spearmanr\n",
    "from scipy.stats import pearsonr\n",
    "import numpy as np\n",
    "from sklearn.linear_model import LinearRegression\n",
    "import scipy.stats as stats"
   ]
  },
  {
   "cell_type": "markdown",
   "id": "c2fcc457",
   "metadata": {},
   "source": [
    "### Знакомство с данными"
   ]
  },
  {
   "cell_type": "code",
   "execution_count": 3,
   "id": "3b6edb87",
   "metadata": {},
   "outputs": [
    {
     "data": {
      "text/html": [
       "<div>\n",
       "<style scoped>\n",
       "    .dataframe tbody tr th:only-of-type {\n",
       "        vertical-align: middle;\n",
       "    }\n",
       "\n",
       "    .dataframe tbody tr th {\n",
       "        vertical-align: top;\n",
       "    }\n",
       "\n",
       "    .dataframe thead th {\n",
       "        text-align: right;\n",
       "    }\n",
       "</style>\n",
       "<table border=\"1\" class=\"dataframe\">\n",
       "  <thead>\n",
       "    <tr style=\"text-align: right;\">\n",
       "      <th></th>\n",
       "      <th>ID</th>\n",
       "      <th>Пол</th>\n",
       "      <th>Регион, место нахождения</th>\n",
       "      <th>Класс</th>\n",
       "      <th>Статус</th>\n",
       "      <th>Предмет</th>\n",
       "      <th>Область изучения</th>\n",
       "      <th>Федеральный округ</th>\n",
       "    </tr>\n",
       "  </thead>\n",
       "  <tbody>\n",
       "    <tr>\n",
       "      <th>0</th>\n",
       "      <td>1</td>\n",
       "      <td>Женский</td>\n",
       "      <td>Москва</td>\n",
       "      <td>8</td>\n",
       "      <td>Победитель</td>\n",
       "      <td>Английский</td>\n",
       "      <td>Гуманитарные</td>\n",
       "      <td>Центральный федеральный округ</td>\n",
       "    </tr>\n",
       "    <tr>\n",
       "      <th>1</th>\n",
       "      <td>2</td>\n",
       "      <td>Мужской</td>\n",
       "      <td>Москва</td>\n",
       "      <td>9</td>\n",
       "      <td>Победитель</td>\n",
       "      <td>Английский</td>\n",
       "      <td>Гуманитарные</td>\n",
       "      <td>Центральный федеральный округ</td>\n",
       "    </tr>\n",
       "    <tr>\n",
       "      <th>2</th>\n",
       "      <td>3</td>\n",
       "      <td>Женский</td>\n",
       "      <td>Москва</td>\n",
       "      <td>9</td>\n",
       "      <td>Победитель</td>\n",
       "      <td>Английский</td>\n",
       "      <td>Гуманитарные</td>\n",
       "      <td>Центральный федеральный округ</td>\n",
       "    </tr>\n",
       "    <tr>\n",
       "      <th>3</th>\n",
       "      <td>4</td>\n",
       "      <td>Мужской</td>\n",
       "      <td>Московская область</td>\n",
       "      <td>9</td>\n",
       "      <td>Победитель</td>\n",
       "      <td>Английский</td>\n",
       "      <td>Гуманитарные</td>\n",
       "      <td>Центральный федеральный округ</td>\n",
       "    </tr>\n",
       "    <tr>\n",
       "      <th>4</th>\n",
       "      <td>5</td>\n",
       "      <td>Мужской</td>\n",
       "      <td>Магаданская область</td>\n",
       "      <td>9</td>\n",
       "      <td>Победитель</td>\n",
       "      <td>Английский</td>\n",
       "      <td>Гуманитарные</td>\n",
       "      <td>Дальневосточный федеральный округ</td>\n",
       "    </tr>\n",
       "  </tbody>\n",
       "</table>\n",
       "</div>"
      ],
      "text/plain": [
       "   ID      Пол Регион, место нахождения Класс       Статус      Предмет  \\\n",
       "0   1  Женский                   Москва      8  Победитель  Английский    \n",
       "1   2  Мужской                   Москва      9  Победитель  Английский    \n",
       "2   3  Женский                   Москва      9  Победитель  Английский    \n",
       "3   4  Мужской       Московская область      9  Победитель  Английский    \n",
       "4   5  Мужской      Магаданская область      9  Победитель  Английский    \n",
       "\n",
       "  Область изучения                  Федеральный округ  \n",
       "0     Гуманитарные      Центральный федеральный округ  \n",
       "1     Гуманитарные      Центральный федеральный округ  \n",
       "2     Гуманитарные      Центральный федеральный округ  \n",
       "3     Гуманитарные      Центральный федеральный округ  \n",
       "4     Гуманитарные  Дальневосточный федеральный округ  "
      ]
     },
     "execution_count": 3,
     "metadata": {},
     "output_type": "execute_result"
    }
   ],
   "source": [
    "data = pd.read_excel(\"C:/Users/larag/Downloads/Telegram Desktop/Данные_02.xlsx\")\n",
    "data.head()"
   ]
  },
  {
   "cell_type": "markdown",
   "id": "92c7074c",
   "metadata": {},
   "source": [
    "Названия столбцов необходимо привести к соответствующему формату"
   ]
  },
  {
   "cell_type": "code",
   "execution_count": 4,
   "id": "17dbacd7",
   "metadata": {
    "scrolled": true
   },
   "outputs": [
    {
     "data": {
      "text/plain": [
       "Index(['id', 'sex', 'region', 'grade', 'status', 'subject', 'field',\n",
       "       'district'],\n",
       "      dtype='object')"
      ]
     },
     "execution_count": 4,
     "metadata": {},
     "output_type": "execute_result"
    }
   ],
   "source": [
    "data.columns=['id', 'sex', 'region', 'grade', 'status', 'subject', 'field', 'district']\n",
    "data.columns"
   ]
  },
  {
   "cell_type": "markdown",
   "id": "fbd54a8e",
   "metadata": {},
   "source": [
    "Названия столбцов приведены к соответствующему формату"
   ]
  },
  {
   "cell_type": "markdown",
   "id": "af43f0e3",
   "metadata": {},
   "source": [
    "### Проверка значений"
   ]
  },
  {
   "cell_type": "markdown",
   "id": "d423883a",
   "metadata": {},
   "source": [
    "#### Столбец `status`"
   ]
  },
  {
   "cell_type": "code",
   "execution_count": 5,
   "id": "2a76048d",
   "metadata": {
    "scrolled": true
   },
   "outputs": [
    {
     "data": {
      "text/plain": [
       "Призер        2259\n",
       "Победитель     488\n",
       "Name: status, dtype: int64"
      ]
     },
     "execution_count": 5,
     "metadata": {},
     "output_type": "execute_result"
    }
   ],
   "source": [
    "data['status'].value_counts()"
   ]
  },
  {
   "cell_type": "markdown",
   "id": "227c430d",
   "metadata": {},
   "source": [
    "В таблице присутствует 24 значения с неверным написанием статуса (\"Победителиь\"). Исправлю их"
   ]
  },
  {
   "cell_type": "code",
   "execution_count": 6,
   "id": "39b6fe38",
   "metadata": {},
   "outputs": [
    {
     "data": {
      "text/plain": [
       "Призер        2259\n",
       "Победитель     488\n",
       "Name: status, dtype: int64"
      ]
     },
     "execution_count": 6,
     "metadata": {},
     "output_type": "execute_result"
    }
   ],
   "source": [
    "data['status'] = data['status'].replace('Победителиь', 'Победитель')\n",
    "data['status'].value_counts()"
   ]
  },
  {
   "cell_type": "markdown",
   "id": "136fcce3",
   "metadata": {},
   "source": [
    "Значения исправлены"
   ]
  },
  {
   "cell_type": "markdown",
   "id": "d9c3ee2c",
   "metadata": {},
   "source": [
    "#### Столбец `sex`"
   ]
  },
  {
   "cell_type": "code",
   "execution_count": 7,
   "id": "97b62ef2",
   "metadata": {},
   "outputs": [
    {
     "data": {
      "text/plain": [
       "Мужской    1797\n",
       "Женский     950\n",
       "Name: sex, dtype: int64"
      ]
     },
     "execution_count": 7,
     "metadata": {},
     "output_type": "execute_result"
    }
   ],
   "source": [
    "data['sex'].value_counts()"
   ]
  },
  {
   "cell_type": "markdown",
   "id": "0d584765",
   "metadata": {},
   "source": [
    "Неверных значений нет"
   ]
  },
  {
   "cell_type": "markdown",
   "id": "031627e3",
   "metadata": {},
   "source": [
    "#### Столбец `grade`"
   ]
  },
  {
   "cell_type": "code",
   "execution_count": 8,
   "id": "c34a9e59",
   "metadata": {},
   "outputs": [
    {
     "data": {
      "text/plain": [
       "11        1063\n",
       "10         887\n",
       "9          671\n",
       "8          102\n",
       "7           18\n",
       "1 курс       2\n",
       "12           1\n",
       "5            1\n",
       "2 курс       1\n",
       "6            1\n",
       "Name: grade, dtype: int64"
      ]
     },
     "execution_count": 8,
     "metadata": {},
     "output_type": "execute_result"
    }
   ],
   "source": [
    "data['grade'].value_counts()"
   ]
  },
  {
   "cell_type": "markdown",
   "id": "97f9cd82",
   "metadata": {},
   "source": [
    "В таблице присутствуют значения класса 12, 1 курс и второй курс. Исходя из того, что в работе рассматривается олимпиада школьников России, удалю аномальные значения"
   ]
  },
  {
   "cell_type": "code",
   "execution_count": 9,
   "id": "62bf615b",
   "metadata": {},
   "outputs": [
    {
     "data": {
      "text/plain": [
       "11    1063\n",
       "10     887\n",
       "9      671\n",
       "8      102\n",
       "7       18\n",
       "5        1\n",
       "6        1\n",
       "Name: grade, dtype: int64"
      ]
     },
     "execution_count": 9,
     "metadata": {},
     "output_type": "execute_result"
    }
   ],
   "source": [
    "data = data[~data['grade'].isin([12, \"1 курс\", \"2 курс\"])]\n",
    "data['grade'].value_counts()"
   ]
  },
  {
   "cell_type": "markdown",
   "id": "830355fb",
   "metadata": {},
   "source": [
    "Аномальные значения удалены"
   ]
  },
  {
   "cell_type": "markdown",
   "id": "f7e151e3",
   "metadata": {},
   "source": [
    "#### Столбец `subject`"
   ]
  },
  {
   "cell_type": "code",
   "execution_count": 10,
   "id": "cae83f8b",
   "metadata": {},
   "outputs": [
    {
     "data": {
      "text/plain": [
       "array(['Английский ', 'Астрономия', 'Биология', 'География',\n",
       "       'Информатика', 'МХК', 'История', 'Литература', 'Математика',\n",
       "       'Обществознание', 'ОБЖ', 'Право', 'Русский язык', 'Технология',\n",
       "       'Физика', 'Физическая культура', 'Химия', 'Экология', 'Экономика'],\n",
       "      dtype=object)"
      ]
     },
     "execution_count": 10,
     "metadata": {},
     "output_type": "execute_result"
    }
   ],
   "source": [
    "data['subject'].unique()"
   ]
  },
  {
   "cell_type": "markdown",
   "id": "f1472634",
   "metadata": {},
   "source": [
    "Обнаружено написание предмета Английский с пробелом и ошибочное написание столбца  Обществознание"
   ]
  },
  {
   "cell_type": "code",
   "execution_count": 11,
   "id": "e3f84a10",
   "metadata": {},
   "outputs": [
    {
     "data": {
      "text/plain": [
       "array(['Английский', 'Астрономия', 'Биология', 'География', 'Информатика',\n",
       "       'МХК', 'История', 'Литература', 'Математика', 'Обществознание',\n",
       "       'ОБЖ', 'Право', 'Русский язык', 'Технология', 'Физика',\n",
       "       'Физическая культура', 'Химия', 'Экология', 'Экономика'],\n",
       "      dtype=object)"
      ]
     },
     "execution_count": 11,
     "metadata": {},
     "output_type": "execute_result"
    }
   ],
   "source": [
    "data['subject'] = data['subject'].apply(str.strip).replace('Обществознани', 'Обществознание')\n",
    "data['subject'].unique()"
   ]
  },
  {
   "cell_type": "markdown",
   "id": "3cdbcf3b",
   "metadata": {},
   "source": [
    "Значения исправлены"
   ]
  },
  {
   "cell_type": "code",
   "execution_count": 12,
   "id": "d6f6f11c",
   "metadata": {},
   "outputs": [
    {
     "data": {
      "text/plain": [
       "array(['Москва', 'Московская область', 'Магаданская область',\n",
       "       'Пензенская область', 'Санкт-Петербург', 'Калужская область',\n",
       "       'Республика Татарстан', 'Удмуртская Республика',\n",
       "       'Челябинская область', 'Ямало-Ненецкий автономный округ',\n",
       "       'Приморский край', 'Республика Башкортостан', 'Брянская область',\n",
       "       'Владимирская область', 'Республика Крым', 'Мурманская область',\n",
       "       'Красноярский край', 'Сахалинская область', 'Краснодарский край',\n",
       "       'Ивановская область', 'Пермский край', 'Республика Дагестан',\n",
       "       'Ростовская область', 'Чувашская Республика - Чувашия',\n",
       "       'Свердловская область', 'Томская область', 'Вологодская область',\n",
       "       'Камчатский край', 'Новосибирская область', 'Республика Мордовия',\n",
       "       'Калининградская область', 'Архангельская область',\n",
       "       'Ставропольский край', 'Ленинградская область',\n",
       "       'Тюменская область', 'Кировская область', 'Республика Коми',\n",
       "       'Челябинская область ', 'Омская область', 'Оренбургская область',\n",
       "       'Республика Бурятия', 'Смоленская область', 'Самарская область',\n",
       "       'Тульская область', 'Псковская область', 'Республика Адыгея',\n",
       "       'Нижегородская область', 'Республика Саха (Якутия) ',\n",
       "       'Хабаровский край', 'Кемеровская область – Кузбасс',\n",
       "       'Ханты-Мансийский автономный округ – Югра', 'Рязанская область',\n",
       "       'Алтайский край', 'Белгородская область', 'Тверская область',\n",
       "       'Республика Саха (Якутия)', 'Костромская область',\n",
       "       'Удмуртская республика', 'Севастополь', 'Ярославская область',\n",
       "       'Новгородская область', 'Саратовская область',\n",
       "       'Тамбовская область', 'Иркутская область', 'Москва ',\n",
       "       'Тверская область ', 'Орловская область', 'Республика Марий Эл',\n",
       "       'Республика Карелия', 'Луганская Народная Республика',\n",
       "       'Республика Алтай', 'Ульяновская область', 'Курганская область',\n",
       "       'Липецкая область', 'Кабардино-Балкарская Республика',\n",
       "       'Курская область', 'Воронежская область', 'Курганская область ',\n",
       "       'Республика Калмыкия', 'Ненецкий автономный округ',\n",
       "       'Республика Хакасия'], dtype=object)"
      ]
     },
     "execution_count": 12,
     "metadata": {},
     "output_type": "execute_result"
    }
   ],
   "source": [
    "data['region'].unique()"
   ]
  },
  {
   "cell_type": "markdown",
   "id": "9b09b6a5",
   "metadata": {},
   "source": [
    "Присутствуют дубликаты из-за пробелов в конце строк"
   ]
  },
  {
   "cell_type": "code",
   "execution_count": 13,
   "id": "29faf943",
   "metadata": {},
   "outputs": [
    {
     "name": "stdout",
     "output_type": "stream",
     "text": [
      "Количетво уникальных значений столбца region до удаления дубликатов 81\n",
      "Количетво уникальных значений столбца region после удаления дубликатов 76\n"
     ]
    }
   ],
   "source": [
    "print(f'Количетво уникальных значений столбца region до удаления дубликатов {len(data[\"region\"].unique())}')\n",
    "data['region'] = data['region'].apply(str.strip)\n",
    "print(f'Количетво уникальных значений столбца region после удаления дубликатов {len(data[\"region\"].unique())}')"
   ]
  },
  {
   "cell_type": "markdown",
   "id": "7d6ea2fa",
   "metadata": {},
   "source": [
    "Дубликаты, связанные с пробелами в конце строк удалены"
   ]
  },
  {
   "cell_type": "markdown",
   "id": "a08610b1",
   "metadata": {},
   "source": [
    "*Промежуточный вывод*\n",
    "\n",
    "Дубликаты и ошибочные значения исправлены"
   ]
  },
  {
   "cell_type": "markdown",
   "id": "52064ae6",
   "metadata": {},
   "source": [
    "### Оценка типов данных"
   ]
  },
  {
   "cell_type": "code",
   "execution_count": 14,
   "id": "9ec60d84",
   "metadata": {
    "scrolled": true
   },
   "outputs": [
    {
     "data": {
      "text/plain": [
       "id           int64\n",
       "sex         object\n",
       "region      object\n",
       "grade       object\n",
       "status      object\n",
       "subject     object\n",
       "field       object\n",
       "district    object\n",
       "dtype: object"
      ]
     },
     "execution_count": 14,
     "metadata": {},
     "output_type": "execute_result"
    }
   ],
   "source": [
    "data.dtypes"
   ]
  },
  {
   "cell_type": "markdown",
   "id": "9d485a2c",
   "metadata": {},
   "source": [
    "Типы данных соответствуют действительности"
   ]
  },
  {
   "cell_type": "markdown",
   "id": "5f42368f",
   "metadata": {},
   "source": [
    "### Добавление новых столбцов"
   ]
  },
  {
   "cell_type": "markdown",
   "id": "688da7fb",
   "metadata": {},
   "source": [
    "Добавлю столбец `region` - отдалённость региона от Москвы (по прямой)"
   ]
  },
  {
   "cell_type": "code",
   "execution_count": 15,
   "id": "0d68cc06",
   "metadata": {},
   "outputs": [],
   "source": [
    "def km(x):\n",
    "    if x == 'Москва':\n",
    "        return 0\n",
    "    if x == 'Московская область':\n",
    "        return 43\n",
    "    if x == 'Магаданская область':\n",
    "        return 5306\n",
    "    if x == 'Пензенская область':\n",
    "        return 555\n",
    "    if x == 'Санкт-Петербург':\n",
    "        return 639\n",
    "    if x == 'Калужская область':\n",
    "        return 163\n",
    "    if x == 'Республика Татарстан':\n",
    "        return 523\n",
    "    if x == 'Челябинская область':\n",
    "        return 1495\n",
    "    if x == 'Ямало-Ненецкий автономный округ':\n",
    "        return 2317\n",
    "    if x == 'Приморский край':\n",
    "        return 6423\n",
    "    if x == 'Республика Башкортостан':\n",
    "        return 1156\n",
    "    if x == 'Брянская область':\n",
    "        return 349\n",
    "    if x == 'Владимирская область':\n",
    "        return 178\n",
    "    if x == 'Республика Крым':\n",
    "        return 949\n",
    "    if x == 'Мурманская область':\n",
    "        return 925\n",
    "    if x == 'Красноярский край':\n",
    "        return 3355\n",
    "    if x == 'Сахалинская область':\n",
    "        return 4132\n",
    "    if x == 'Краснодарский край':\n",
    "        return 1195\n",
    "    if x == 'Ивановская область':\n",
    "        return 249\n",
    "    if x == 'Пермский край':\n",
    "        return 1155\n",
    "    if x == 'Республика Дагестан':\n",
    "        return 1586\n",
    "    if x == 'Ростовская область':\n",
    "        return 957\n",
    "    if x == 'Чувашская Республика - Чувашия':\n",
    "        return 601\n",
    "    if x == 'Свердловская область':\n",
    "        return 1415\n",
    "    if x == 'Томская область':\n",
    "        return 2875\n",
    "    if x == 'Вологодская область':\n",
    "        return 408\n",
    "    if x == 'Камчатский край':\n",
    "        return 3273\n",
    "    if x == 'Новосибирская область':\n",
    "        return 2809\n",
    "    if x == 'Республика Мордовия':\n",
    "        return 513\n",
    "    if x == 'Калининградская область':\n",
    "        return 1088\n",
    "    if x == 'Архангельская область':\n",
    "        return 992\n",
    "    if x == 'Ставропольский край':\n",
    "        return 1229\n",
    "    if x == 'Ленинградская область':\n",
    "        return 1055\n",
    "    if x == 'Тюменская область':\n",
    "        return 1709\n",
    "    if x == 'Кировская область':\n",
    "        return 789\n",
    "    if x == 'Республика Коми':\n",
    "        return 1003\n",
    "    if x == 'Омская область':\n",
    "        return 2235\n",
    "    if x == 'Оренбургская область':\n",
    "        return 1226\n",
    "    if x == 'Республика Бурятия':\n",
    "        return 4418\n",
    "    if x == 'Смоленская область':\n",
    "        return 368\n",
    "    if x == 'Самарская область':\n",
    "        return 856\n",
    "    if x == 'Тульская область':\n",
    "        return 173\n",
    "    if x == 'Псковская область':\n",
    "        return 610\n",
    "    if x == 'Республика Адыгея':\n",
    "        return 1251\n",
    "    if x == 'Нижегородская область':\n",
    "        return 401\n",
    "    if x == 'Республика Саха (Якутия) ':\n",
    "        return 4880\n",
    "    if x == 'Хабаровский край':\n",
    "        return 6135\n",
    "    if x == 'Кемеровская область – Кузбасс':\n",
    "        return 2984\n",
    "    if x == 'Ханты-Мансийский автономный округ – Югра':\n",
    "        return 1898\n",
    "    if x == 'Рязанская область':\n",
    "        return 184\n",
    "    if x == 'Алтайский край':\n",
    "        return 2929\n",
    "    if x == 'Белгородская область':\n",
    "        return 575\n",
    "    if x == 'Тверская область':\n",
    "        return 163\n",
    "    if x == 'Костромская область':\n",
    "        return 302\n",
    "    if x == 'Севастополь':\n",
    "        return 1274\n",
    "    if x == 'Ярославская область':\n",
    "        return 249\n",
    "    if x == 'Новгородская область':\n",
    "        return 491\n",
    "    if x == 'Саратовская область':\n",
    "        return 723\n",
    "    if x == 'Тамбовская область':\n",
    "        return 417\n",
    "    if x == 'Иркутская область':\n",
    "        return 4203\n",
    "    if x == 'Орловская область':\n",
    "        return 325\n",
    "    if x == 'Республика Марий Эл':\n",
    "        return 641\n",
    "    if x == 'Республика Карелия':\n",
    "        return 700\n",
    "    if x == 'Луганская Народная Республика':\n",
    "        return 807\n",
    "    if x == 'Республика Алтай':\n",
    "        return 913\n",
    "    if x == 'Ульяновская область':\n",
    "        return 704\n",
    "    if x == 'Курганская область':\n",
    "        return 1729\n",
    "    if x == 'Липецкая область':\n",
    "        return 371\n",
    "    if x == 'Кабардино-Балкарская Республика':\n",
    "        return 1428\n",
    "    if x == 'Курская область':\n",
    "        return 457\n",
    "    if x == 'Воронежская область':\n",
    "        return 465\n",
    "    if x == 'Республика Калмыкия':\n",
    "        return 1146\n",
    "    if x == 'Ненецкий автономный округ':\n",
    "        return 1542\n",
    "    if x == 'Республика Хакасия':\n",
    "        return 3372\n",
    "    if x == 'Удмуртская Республика':\n",
    "        return 968"
   ]
  },
  {
   "cell_type": "code",
   "execution_count": 16,
   "id": "9c0875dd",
   "metadata": {},
   "outputs": [
    {
     "data": {
      "text/html": [
       "<div>\n",
       "<style scoped>\n",
       "    .dataframe tbody tr th:only-of-type {\n",
       "        vertical-align: middle;\n",
       "    }\n",
       "\n",
       "    .dataframe tbody tr th {\n",
       "        vertical-align: top;\n",
       "    }\n",
       "\n",
       "    .dataframe thead th {\n",
       "        text-align: right;\n",
       "    }\n",
       "</style>\n",
       "<table border=\"1\" class=\"dataframe\">\n",
       "  <thead>\n",
       "    <tr style=\"text-align: right;\">\n",
       "      <th></th>\n",
       "      <th>id</th>\n",
       "      <th>sex</th>\n",
       "      <th>region</th>\n",
       "      <th>grade</th>\n",
       "      <th>status</th>\n",
       "      <th>subject</th>\n",
       "      <th>field</th>\n",
       "      <th>district</th>\n",
       "      <th>distance</th>\n",
       "    </tr>\n",
       "  </thead>\n",
       "  <tbody>\n",
       "    <tr>\n",
       "      <th>0</th>\n",
       "      <td>1</td>\n",
       "      <td>Женский</td>\n",
       "      <td>Москва</td>\n",
       "      <td>8</td>\n",
       "      <td>Победитель</td>\n",
       "      <td>Английский</td>\n",
       "      <td>Гуманитарные</td>\n",
       "      <td>Центральный федеральный округ</td>\n",
       "      <td>0.0</td>\n",
       "    </tr>\n",
       "    <tr>\n",
       "      <th>1</th>\n",
       "      <td>2</td>\n",
       "      <td>Мужской</td>\n",
       "      <td>Москва</td>\n",
       "      <td>9</td>\n",
       "      <td>Победитель</td>\n",
       "      <td>Английский</td>\n",
       "      <td>Гуманитарные</td>\n",
       "      <td>Центральный федеральный округ</td>\n",
       "      <td>0.0</td>\n",
       "    </tr>\n",
       "    <tr>\n",
       "      <th>2</th>\n",
       "      <td>3</td>\n",
       "      <td>Женский</td>\n",
       "      <td>Москва</td>\n",
       "      <td>9</td>\n",
       "      <td>Победитель</td>\n",
       "      <td>Английский</td>\n",
       "      <td>Гуманитарные</td>\n",
       "      <td>Центральный федеральный округ</td>\n",
       "      <td>0.0</td>\n",
       "    </tr>\n",
       "    <tr>\n",
       "      <th>3</th>\n",
       "      <td>4</td>\n",
       "      <td>Мужской</td>\n",
       "      <td>Московская область</td>\n",
       "      <td>9</td>\n",
       "      <td>Победитель</td>\n",
       "      <td>Английский</td>\n",
       "      <td>Гуманитарные</td>\n",
       "      <td>Центральный федеральный округ</td>\n",
       "      <td>43.0</td>\n",
       "    </tr>\n",
       "    <tr>\n",
       "      <th>4</th>\n",
       "      <td>5</td>\n",
       "      <td>Мужской</td>\n",
       "      <td>Магаданская область</td>\n",
       "      <td>9</td>\n",
       "      <td>Победитель</td>\n",
       "      <td>Английский</td>\n",
       "      <td>Гуманитарные</td>\n",
       "      <td>Дальневосточный федеральный округ</td>\n",
       "      <td>5306.0</td>\n",
       "    </tr>\n",
       "  </tbody>\n",
       "</table>\n",
       "</div>"
      ],
      "text/plain": [
       "   id      sex               region grade      status     subject  \\\n",
       "0   1  Женский               Москва     8  Победитель  Английский   \n",
       "1   2  Мужской               Москва     9  Победитель  Английский   \n",
       "2   3  Женский               Москва     9  Победитель  Английский   \n",
       "3   4  Мужской   Московская область     9  Победитель  Английский   \n",
       "4   5  Мужской  Магаданская область     9  Победитель  Английский   \n",
       "\n",
       "          field                           district  distance  \n",
       "0  Гуманитарные      Центральный федеральный округ       0.0  \n",
       "1  Гуманитарные      Центральный федеральный округ       0.0  \n",
       "2  Гуманитарные      Центральный федеральный округ       0.0  \n",
       "3  Гуманитарные      Центральный федеральный округ      43.0  \n",
       "4  Гуманитарные  Дальневосточный федеральный округ    5306.0  "
      ]
     },
     "execution_count": 16,
     "metadata": {},
     "output_type": "execute_result"
    }
   ],
   "source": [
    "data['distance'] = data['region'].apply(km)\n",
    "data.head()"
   ]
  },
  {
   "cell_type": "markdown",
   "id": "00b28ad3",
   "metadata": {},
   "source": [
    "Новый столбец добавлен"
   ]
  },
  {
   "cell_type": "markdown",
   "id": "c677cafc",
   "metadata": {},
   "source": [
    "Добавлю столбец `status_id` - идентификатор статуса участника (1 - победитель, 0 - призёр)"
   ]
  },
  {
   "cell_type": "code",
   "execution_count": 17,
   "id": "edde6ad5",
   "metadata": {},
   "outputs": [],
   "source": [
    "def status_id(row):\n",
    "    if row == 'Победитель':\n",
    "        return 1\n",
    "    return 0"
   ]
  },
  {
   "cell_type": "code",
   "execution_count": 18,
   "id": "be01e1ec",
   "metadata": {},
   "outputs": [
    {
     "data": {
      "text/html": [
       "<div>\n",
       "<style scoped>\n",
       "    .dataframe tbody tr th:only-of-type {\n",
       "        vertical-align: middle;\n",
       "    }\n",
       "\n",
       "    .dataframe tbody tr th {\n",
       "        vertical-align: top;\n",
       "    }\n",
       "\n",
       "    .dataframe thead th {\n",
       "        text-align: right;\n",
       "    }\n",
       "</style>\n",
       "<table border=\"1\" class=\"dataframe\">\n",
       "  <thead>\n",
       "    <tr style=\"text-align: right;\">\n",
       "      <th></th>\n",
       "      <th>id</th>\n",
       "      <th>sex</th>\n",
       "      <th>region</th>\n",
       "      <th>grade</th>\n",
       "      <th>status</th>\n",
       "      <th>subject</th>\n",
       "      <th>field</th>\n",
       "      <th>district</th>\n",
       "      <th>distance</th>\n",
       "      <th>status_id</th>\n",
       "    </tr>\n",
       "  </thead>\n",
       "  <tbody>\n",
       "    <tr>\n",
       "      <th>0</th>\n",
       "      <td>1</td>\n",
       "      <td>Женский</td>\n",
       "      <td>Москва</td>\n",
       "      <td>8</td>\n",
       "      <td>Победитель</td>\n",
       "      <td>Английский</td>\n",
       "      <td>Гуманитарные</td>\n",
       "      <td>Центральный федеральный округ</td>\n",
       "      <td>0.0</td>\n",
       "      <td>1</td>\n",
       "    </tr>\n",
       "    <tr>\n",
       "      <th>1</th>\n",
       "      <td>2</td>\n",
       "      <td>Мужской</td>\n",
       "      <td>Москва</td>\n",
       "      <td>9</td>\n",
       "      <td>Победитель</td>\n",
       "      <td>Английский</td>\n",
       "      <td>Гуманитарные</td>\n",
       "      <td>Центральный федеральный округ</td>\n",
       "      <td>0.0</td>\n",
       "      <td>1</td>\n",
       "    </tr>\n",
       "    <tr>\n",
       "      <th>2</th>\n",
       "      <td>3</td>\n",
       "      <td>Женский</td>\n",
       "      <td>Москва</td>\n",
       "      <td>9</td>\n",
       "      <td>Победитель</td>\n",
       "      <td>Английский</td>\n",
       "      <td>Гуманитарные</td>\n",
       "      <td>Центральный федеральный округ</td>\n",
       "      <td>0.0</td>\n",
       "      <td>1</td>\n",
       "    </tr>\n",
       "    <tr>\n",
       "      <th>3</th>\n",
       "      <td>4</td>\n",
       "      <td>Мужской</td>\n",
       "      <td>Московская область</td>\n",
       "      <td>9</td>\n",
       "      <td>Победитель</td>\n",
       "      <td>Английский</td>\n",
       "      <td>Гуманитарные</td>\n",
       "      <td>Центральный федеральный округ</td>\n",
       "      <td>43.0</td>\n",
       "      <td>1</td>\n",
       "    </tr>\n",
       "    <tr>\n",
       "      <th>4</th>\n",
       "      <td>5</td>\n",
       "      <td>Мужской</td>\n",
       "      <td>Магаданская область</td>\n",
       "      <td>9</td>\n",
       "      <td>Победитель</td>\n",
       "      <td>Английский</td>\n",
       "      <td>Гуманитарные</td>\n",
       "      <td>Дальневосточный федеральный округ</td>\n",
       "      <td>5306.0</td>\n",
       "      <td>1</td>\n",
       "    </tr>\n",
       "  </tbody>\n",
       "</table>\n",
       "</div>"
      ],
      "text/plain": [
       "   id      sex               region grade      status     subject  \\\n",
       "0   1  Женский               Москва     8  Победитель  Английский   \n",
       "1   2  Мужской               Москва     9  Победитель  Английский   \n",
       "2   3  Женский               Москва     9  Победитель  Английский   \n",
       "3   4  Мужской   Московская область     9  Победитель  Английский   \n",
       "4   5  Мужской  Магаданская область     9  Победитель  Английский   \n",
       "\n",
       "          field                           district  distance  status_id  \n",
       "0  Гуманитарные      Центральный федеральный округ       0.0          1  \n",
       "1  Гуманитарные      Центральный федеральный округ       0.0          1  \n",
       "2  Гуманитарные      Центральный федеральный округ       0.0          1  \n",
       "3  Гуманитарные      Центральный федеральный округ      43.0          1  \n",
       "4  Гуманитарные  Дальневосточный федеральный округ    5306.0          1  "
      ]
     },
     "execution_count": 18,
     "metadata": {},
     "output_type": "execute_result"
    }
   ],
   "source": [
    "data['status_id'] = data['status'].apply(status_id)\n",
    "data.head()"
   ]
  },
  {
   "cell_type": "markdown",
   "id": "8a349636",
   "metadata": {},
   "source": [
    "Новый столбец добавлен"
   ]
  },
  {
   "cell_type": "markdown",
   "id": "974a75ab",
   "metadata": {},
   "source": [
    "## Проверка значимости различия числа призёров и победителей по полу"
   ]
  },
  {
   "cell_type": "markdown",
   "id": "006be562",
   "metadata": {},
   "source": [
    "*Нулевая гипотеза:* распределение нормальное\n",
    "\n",
    "*Альтернативная гипотеза:* распределение не нормальное"
   ]
  },
  {
   "cell_type": "code",
   "execution_count": 19,
   "id": "6704c53f",
   "metadata": {},
   "outputs": [],
   "source": [
    "def distrib(sample):\n",
    "\n",
    "    alpha = 0.05\n",
    "\n",
    "    results = st.shapiro(sample)\n",
    "    p_value = results[1]\n",
    "\n",
    "    print('p-значение: ', p_value)\n",
    "\n",
    "    if p_value < alpha:\n",
    "        print('Отвергаем нулевую гипотезу: распределение не нормально')\n",
    "    else:\n",
    "        print('Не получилось отвергнуть нулевую гипотезу, распределение нормальное')"
   ]
  },
  {
   "cell_type": "code",
   "execution_count": 20,
   "id": "1ef0bd62",
   "metadata": {},
   "outputs": [],
   "source": [
    "sex_winners = data.pivot_table(index='subject', columns='sex', values='id', aggfunc='count')\n",
    "total = data.groupby('sex')['id'].count()"
   ]
  },
  {
   "cell_type": "code",
   "execution_count": 21,
   "id": "d59b2d05",
   "metadata": {
    "scrolled": false
   },
   "outputs": [
    {
     "name": "stdout",
     "output_type": "stream",
     "text": [
      "Проверка распределения количества победителей и призёров по предметов среди девушек\n",
      "p-значение:  0.5202280879020691\n",
      "Не получилось отвергнуть нулевую гипотезу, распределение нормальное\n",
      "\n",
      "Проверка распределения количества победителей и призёров по предметов среди юношей\n",
      "p-значение:  0.2625121772289276\n",
      "Не получилось отвергнуть нулевую гипотезу, распределение нормальное\n"
     ]
    }
   ],
   "source": [
    "print('Проверка распределения количества победителей и призёров по предметов среди девушек')\n",
    "distrib(sex_winners['Женский'])\n",
    "\n",
    "print()\n",
    "\n",
    "print('Проверка распределения количества победителей и призёров по предметов среди юношей')\n",
    "distrib(sex_winners['Мужской'])"
   ]
  },
  {
   "cell_type": "markdown",
   "id": "cee7d8ab",
   "metadata": {},
   "source": [
    "Распределение количества победителей и призёров по предметов среди обоих полов нормальное"
   ]
  },
  {
   "cell_type": "code",
   "execution_count": 35,
   "id": "5763d7cb",
   "metadata": {},
   "outputs": [],
   "source": [
    "def p_v(table, total):\n",
    "    women_total = total['Женский']\n",
    "    men_total = total['Мужской']\n",
    "    alpha = 0.05\n",
    "    \n",
    "    for subject in table.index:\n",
    "        women = table.loc[subject]['Женский']\n",
    "        men = table.loc[subject]['Мужской']\n",
    "        \n",
    "        pw = women / women_total\n",
    "\n",
    "        pm = men/men_total\n",
    "\n",
    "        p_combined = (women + men) / (women_total + men_total)\n",
    "\n",
    "        difference = pw - pm\n",
    "\n",
    "        z_value = difference / mth.sqrt(p_combined * (1 - p_combined) * (1/women_total + 1/men_total))\n",
    "\n",
    "        distr = st.norm(0, 1) \n",
    "\n",
    "        print(f'Проверка предмета {subject}')\n",
    "        p_value = (1 - distr.cdf(abs(z_value))) * 2\n",
    "        print('p-значение: ', p_value)\n",
    "\n",
    "        if p_value < alpha:\n",
    "            print('Отвергаем нулевую гипотезу: между долями есть значимая разница')\n",
    "        else:\n",
    "            print('Не получилось отвергнуть нулевую гипотезу, нет оснований считать доли разными')\n",
    "        print()"
   ]
  },
  {
   "cell_type": "markdown",
   "id": "483c7323",
   "metadata": {},
   "source": [
    "*Нулевая гипотеза:* Между долями нет статистически значимой разницы\n",
    "\n",
    "*Альтернативная гипотеза:* Между долями есть статистически значимая разница"
   ]
  },
  {
   "cell_type": "markdown",
   "id": "87be5ee7",
   "metadata": {},
   "source": [
    "Результаты статистической проверки гипотезы о разнице долей успехов между женской и мужской группами на основе данных о количестве призёров и победителей всероссийской олимпиады школьников"
   ]
  },
  {
   "cell_type": "code",
   "execution_count": 23,
   "id": "8998f59a",
   "metadata": {},
   "outputs": [
    {
     "name": "stdout",
     "output_type": "stream",
     "text": [
      "Проверка предмета Английский\n",
      "p-значение:  0.00030214417560037177\n",
      "Отвергаем нулевую гипотезу: между долями есть значимая разница\n",
      "\n",
      "Проверка предмета Астрономия\n",
      "p-значение:  6.842670869922074e-07\n",
      "Отвергаем нулевую гипотезу: между долями есть значимая разница\n",
      "\n",
      "Проверка предмета Биология\n",
      "p-значение:  0.006720238080199836\n",
      "Отвергаем нулевую гипотезу: между долями есть значимая разница\n",
      "\n",
      "Проверка предмета География\n",
      "p-значение:  1.7549846886844023e-07\n",
      "Отвергаем нулевую гипотезу: между долями есть значимая разница\n",
      "\n",
      "Проверка предмета Информатика\n",
      "p-значение:  0.0\n",
      "Отвергаем нулевую гипотезу: между долями есть значимая разница\n",
      "\n",
      "Проверка предмета История\n",
      "p-значение:  0.058256140844969995\n",
      "Не получилось отвергнуть нулевую гипотезу, нет оснований считать доли разными\n",
      "\n",
      "Проверка предмета Литература\n",
      "p-значение:  0.0\n",
      "Отвергаем нулевую гипотезу: между долями есть значимая разница\n",
      "\n",
      "Проверка предмета МХК\n",
      "p-значение:  1.6653345369377348e-14\n",
      "Отвергаем нулевую гипотезу: между долями есть значимая разница\n",
      "\n",
      "Проверка предмета Математика\n",
      "p-значение:  8.210587765233868e-11\n",
      "Отвергаем нулевую гипотезу: между долями есть значимая разница\n",
      "\n",
      "Проверка предмета ОБЖ\n",
      "p-значение:  0.015570167945239799\n",
      "Отвергаем нулевую гипотезу: между долями есть значимая разница\n",
      "\n",
      "Проверка предмета Обществознание\n",
      "p-значение:  0.07490606357302054\n",
      "Не получилось отвергнуть нулевую гипотезу, нет оснований считать доли разными\n",
      "\n",
      "Проверка предмета Право\n",
      "p-значение:  0.0001036310230262405\n",
      "Отвергаем нулевую гипотезу: между долями есть значимая разница\n",
      "\n",
      "Проверка предмета Русский язык\n",
      "p-значение:  1.1375065778196358e-08\n",
      "Отвергаем нулевую гипотезу: между долями есть значимая разница\n",
      "\n",
      "Проверка предмета Технология\n",
      "p-значение:  0.09793002930288908\n",
      "Не получилось отвергнуть нулевую гипотезу, нет оснований считать доли разными\n",
      "\n",
      "Проверка предмета Физика\n",
      "p-значение:  2.927569298094568e-11\n",
      "Отвергаем нулевую гипотезу: между долями есть значимая разница\n",
      "\n",
      "Проверка предмета Физическая культура\n",
      "p-значение:  0.19699244478367772\n",
      "Не получилось отвергнуть нулевую гипотезу, нет оснований считать доли разными\n",
      "\n",
      "Проверка предмета Химия\n",
      "p-значение:  2.063372979987932e-05\n",
      "Отвергаем нулевую гипотезу: между долями есть значимая разница\n",
      "\n",
      "Проверка предмета Экология\n",
      "p-значение:  6.277200981230635e-12\n",
      "Отвергаем нулевую гипотезу: между долями есть значимая разница\n",
      "\n",
      "Проверка предмета Экономика\n",
      "p-значение:  8.46032133239305e-11\n",
      "Отвергаем нулевую гипотезу: между долями есть значимая разница\n",
      "\n"
     ]
    }
   ],
   "source": [
    "p_v(sex_winners, total)"
   ]
  },
  {
   "cell_type": "markdown",
   "id": "486a7d48",
   "metadata": {},
   "source": [
    "Нет оснований считать доли побидителей и призёров по полу разными только при рассмотрении предметов физическая культура, технология, обществознания и история (4 из 19 предметов)"
   ]
  },
  {
   "cell_type": "markdown",
   "id": "c8a67dce",
   "metadata": {},
   "source": [
    "## Проверка зависимости количества победителей от отдалённости регионов от Москвы"
   ]
  },
  {
   "cell_type": "code",
   "execution_count": 33,
   "id": "e7a8bb1d",
   "metadata": {},
   "outputs": [
    {
     "data": {
      "text/html": [
       "<div>\n",
       "<style scoped>\n",
       "    .dataframe tbody tr th:only-of-type {\n",
       "        vertical-align: middle;\n",
       "    }\n",
       "\n",
       "    .dataframe tbody tr th {\n",
       "        vertical-align: top;\n",
       "    }\n",
       "\n",
       "    .dataframe thead th {\n",
       "        text-align: right;\n",
       "    }\n",
       "</style>\n",
       "<table border=\"1\" class=\"dataframe\">\n",
       "  <thead>\n",
       "    <tr style=\"text-align: right;\">\n",
       "      <th></th>\n",
       "      <th>Расстояние до Москвы</th>\n",
       "      <th>Количество победителей</th>\n",
       "    </tr>\n",
       "  </thead>\n",
       "  <tbody>\n",
       "    <tr>\n",
       "      <th>0</th>\n",
       "      <td>0.0</td>\n",
       "      <td>247</td>\n",
       "    </tr>\n",
       "    <tr>\n",
       "      <th>1</th>\n",
       "      <td>43.0</td>\n",
       "      <td>69</td>\n",
       "    </tr>\n",
       "    <tr>\n",
       "      <th>2</th>\n",
       "      <td>163.0</td>\n",
       "      <td>1</td>\n",
       "    </tr>\n",
       "    <tr>\n",
       "      <th>6</th>\n",
       "      <td>249.0</td>\n",
       "      <td>5</td>\n",
       "    </tr>\n",
       "    <tr>\n",
       "      <th>12</th>\n",
       "      <td>401.0</td>\n",
       "      <td>3</td>\n",
       "    </tr>\n",
       "  </tbody>\n",
       "</table>\n",
       "</div>"
      ],
      "text/plain": [
       "    Расстояние до Москвы  Количество победителей\n",
       "0                    0.0                     247\n",
       "1                   43.0                      69\n",
       "2                  163.0                       1\n",
       "6                  249.0                       5\n",
       "12                 401.0                       3"
      ]
     },
     "execution_count": 33,
     "metadata": {},
     "output_type": "execute_result"
    }
   ],
   "source": [
    "corr_data = data.groupby('distance')['status_id'].sum()\n",
    "corr_data = corr_data.reset_index()\n",
    "corr_data = corr_data[corr_data['status_id'] != 0]\n",
    "corr_data.columns=['Расстояние до Москвы', 'Количество победителей']\n",
    "corr_data = corr_data.sort_values(by='Расстояние до Москвы')\n",
    "corr_data.head()"
   ]
  },
  {
   "cell_type": "code",
   "execution_count": 34,
   "id": "06e5830e",
   "metadata": {},
   "outputs": [
    {
     "data": {
      "text/plain": [
       "-0.2357095177242441"
      ]
     },
     "execution_count": 34,
     "metadata": {},
     "output_type": "execute_result"
    }
   ],
   "source": [
    "corr = corr_data['Расстояние до Москвы'].corr(corr_data['Количество победителей'])\n",
    "corr"
   ]
  },
  {
   "cell_type": "markdown",
   "id": "287b50dd",
   "metadata": {},
   "source": [
    "Между расстоянием города до Москвы и количеством победителей в нем нет зависимости"
   ]
  },
  {
   "cell_type": "markdown",
   "id": "20daf112",
   "metadata": {},
   "source": [
    "## Выводы"
   ]
  },
  {
   "cell_type": "markdown",
   "id": "550ddca5",
   "metadata": {},
   "source": [
    "- Распределение количества победителей и призёров по предметов среди обоих полов нормальное\n",
    "\n",
    "- Нет оснований считать доли побидителей и призёров по полу разными только при рассмотрении предметов физическая культура, технология, обществознания и история (4 из 19 предметов)\n",
    "\n",
    "- Между расстоянием города до Москвы и количеством победителей в нем нет зависимости"
   ]
  }
 ],
 "metadata": {
  "kernelspec": {
   "display_name": "Python 3 (ipykernel)",
   "language": "python",
   "name": "python3"
  },
  "language_info": {
   "codemirror_mode": {
    "name": "ipython",
    "version": 3
   },
   "file_extension": ".py",
   "mimetype": "text/x-python",
   "name": "python",
   "nbconvert_exporter": "python",
   "pygments_lexer": "ipython3",
   "version": "3.11.4"
  }
 },
 "nbformat": 4,
 "nbformat_minor": 5
}
